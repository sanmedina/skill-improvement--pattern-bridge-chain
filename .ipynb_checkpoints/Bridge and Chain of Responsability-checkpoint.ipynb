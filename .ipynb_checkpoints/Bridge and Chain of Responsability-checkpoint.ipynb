{
 "cells": [
  {
   "cell_type": "markdown",
   "id": "eabc87bc",
   "metadata": {},
   "source": [
    "Bride Desgin Pattern\n",
    "======="
   ]
  },
  {
   "cell_type": "code",
   "execution_count": 6,
   "id": "ae700adb",
   "metadata": {},
   "outputs": [],
   "source": [
    "from abc import ABCMeta, abstractmethod"
   ]
  },
  {
   "cell_type": "code",
   "execution_count": 7,
   "id": "a2563ee8",
   "metadata": {},
   "outputs": [],
   "source": [
    "class Fetcher(metaclass=ABCMeta):\n",
    "    @abstractmethod\n",
    "    def fetch(self, path: str) -> str:\n",
    "        ..."
   ]
  },
  {
   "cell_type": "code",
   "execution_count": 4,
   "id": "70b17800",
   "metadata": {},
   "outputs": [],
   "source": [
    "class ResourceContent:\n",
    "    def __init__(self, fetcher: Fetcher):\n",
    "        self._fetcher = fetcher\n",
    "        \n",
    "    def show_content(self, path: str) -> str:\n",
    "        return self._fetcher.fetch(path)"
   ]
  },
  {
   "cell_type": "code",
   "execution_count": 18,
   "id": "1af2053e",
   "metadata": {},
   "outputs": [],
   "source": [
    "import urllib\n",
    "\n",
    "class URLFetcher(Fetcher):\n",
    "    def fetch(self, path: str) -> Fetcher:\n",
    "        req = urllib.request.Request(path)\n",
    "        with urllib.request.urlopen(req) as response:\n",
    "            if response.code == 200:\n",
    "                return response.read().decode()\n",
    "            raise Exception(f'Could not fetch content from {path}')"
   ]
  },
  {
   "cell_type": "code",
   "execution_count": 9,
   "id": "e600bebf",
   "metadata": {},
   "outputs": [],
   "source": [
    "class LocalFileFetcher(Fetcher):\n",
    "    def fetch(self, path: str) -> str:\n",
    "        with open(path, mode='r') as fp:\n",
    "            return fp.read()"
   ]
  },
  {
   "cell_type": "code",
   "execution_count": 19,
   "id": "45b4c71a",
   "metadata": {},
   "outputs": [
    {
     "name": "stdout",
     "output_type": "stream",
     "text": [
      "<!doctype html>\n",
      "<html>\n",
      "<head>\n",
      "    <title>Example Domain</title>\n",
      "\n",
      "    <meta charset=\"utf-8\" />\n",
      "    <meta http-equiv=\"Content-type\" content=\"text/html; charset=utf-8\" />\n",
      "    <meta name=\"viewport\" content=\"width=device-width, initial-scale=1\" />\n",
      "    <style type=\"text/css\">\n",
      "    body {\n",
      "        background-color: #f0f0f2;\n",
      "        margin: 0;\n",
      "        padding: 0;\n",
      "        font-family: -apple-system, system-ui, BlinkMacSystemFont, \"Segoe UI\", \"Open Sans\", \"Helvetica Neue\", Helvetica, Arial, sans-serif;\n",
      "        \n",
      "    }\n",
      "    div {\n",
      "        width: 600px;\n",
      "        margin: 5em auto;\n",
      "        padding: 2em;\n",
      "        background-color: #fdfdff;\n",
      "        border-radius: 0.5em;\n",
      "        box-shadow: 2px 3px 7px 2px rgba(0,0,0,0.02);\n",
      "    }\n",
      "    a:link, a:visited {\n",
      "        color: #38488f;\n",
      "        text-decoration: none;\n",
      "    }\n",
      "    @media (max-width: 700px) {\n",
      "        div {\n",
      "            margin: 0 auto;\n",
      "            width: auto;\n",
      "        }\n",
      "    }\n",
      "    </style>    \n",
      "</head>\n",
      "\n",
      "<body>\n",
      "<div>\n",
      "    <h1>Example Domain</h1>\n",
      "    <p>This domain is for use in illustrative examples in documents. You may use this\n",
      "    domain in literature without prior coordination or asking for permission.</p>\n",
      "    <p><a href=\"https://www.iana.org/domains/example\">More information...</a></p>\n",
      "</div>\n",
      "</body>\n",
      "</html>\n",
      "\n",
      "======\n",
      "<!doctype html>\n",
      "<html>\n",
      "<head>\n",
      "    <title>Example Domain</title>\n",
      "\n",
      "    <meta charset=\"utf-8\" />\n",
      "    <meta http-equiv=\"Content-type\" content=\"text/html; charset=utf-8\" />\n",
      "    <meta name=\"viewport\" content=\"width=device-width, initial-scale=1\" />\n",
      "    <style type=\"text/css\">\n",
      "    body {\n",
      "        background-color: #f0f0f2;\n",
      "        margin: 0;\n",
      "        padding: 0;\n",
      "        font-family: -apple-system, system-ui, BlinkMacSystemFont, \"Segoe UI\", \"Open Sans\", \"Helvetica Neue\", Helvetica, Arial, sans-serif;\n",
      "        \n",
      "    }\n",
      "    div {\n",
      "        width: 600px;\n",
      "        margin: 5em auto;\n",
      "        padding: 2em;\n",
      "        background-color: #fdfdff;\n",
      "        border-radius: 0.5em;\n",
      "        box-shadow: 2px 3px 7px 2px rgba(0,0,0,0.02);\n",
      "    }\n",
      "    a:link, a:visited {\n",
      "        color: #38488f;\n",
      "        text-decoration: none;\n",
      "    }\n",
      "    @media (max-width: 700px) {\n",
      "        div {\n",
      "            margin: 0 auto;\n",
      "            width: auto;\n",
      "        }\n",
      "    }\n",
      "    </style>    \n",
      "</head>\n",
      "\n",
      "<body>\n",
      "<div>\n",
      "    <h1>Example Domain</h1>\n",
      "    <p>This domain is for use in illustrative examples in documents. You may use this\n",
      "    domain in literature without prior coordination or asking for permission.</p>\n",
      "    <p><a href=\"https://www.iana.org/domains/example\">More information...</a></p>\n",
      "</div>\n",
      "</body>\n",
      "</html>\n",
      "\n"
     ]
    }
   ],
   "source": [
    "def app():\n",
    "    url_fetcher = URLFetcher()\n",
    "    resource_content = ResourceContent(url_fetcher)\n",
    "    print(resource_content.show_content('https://example.com/'))\n",
    "    \n",
    "    print('======')\n",
    "    localfs_fetcher = LocalFileFetcher()\n",
    "    resource_content = ResourceContent(localfs_fetcher)\n",
    "    print(resource_content.show_content('example.html'))\n",
    "app()"
   ]
  },
  {
   "cell_type": "markdown",
   "id": "a9768fe8",
   "metadata": {},
   "source": [
    "# Resources\n",
    "\n",
    "- https://dotnettutorials.net/lesson/bridge-design-pattern/\n",
    "- https://dotnettutorials.net/lesson/bridge-design-pattern-real-time-example/\n",
    "- https://stackoverflow.com/questions/464524/what-is-the-difference-between-the-bridge-pattern-and-the-strategy-pattern#464549\n",
    "- https://bytescrolls.blogspot.com/2009/01/design-patterns-bridge.html\n",
    "- https://game-engineering.blogspot.com/2008/07/bridge-pattern-vs-strategy-pattern.html\n",
    "- https://stackoverflow.com/questions/5863530/strategy-vs-bridge-patterns"
   ]
  }
 ],
 "metadata": {
  "kernelspec": {
   "display_name": "Python 3",
   "language": "python",
   "name": "python3"
  },
  "language_info": {
   "codemirror_mode": {
    "name": "ipython",
    "version": 3
   },
   "file_extension": ".py",
   "mimetype": "text/x-python",
   "name": "python",
   "nbconvert_exporter": "python",
   "pygments_lexer": "ipython3",
   "version": "3.8.8"
  }
 },
 "nbformat": 4,
 "nbformat_minor": 5
}
